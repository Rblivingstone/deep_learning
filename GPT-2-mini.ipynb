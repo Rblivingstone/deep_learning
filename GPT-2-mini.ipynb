{
  "nbformat": 4,
  "nbformat_minor": 0,
  "metadata": {
    "colab": {
      "name": "Untitled8.ipynb",
      "version": "0.3.2",
      "provenance": [],
      "include_colab_link": true
    },
    "kernelspec": {
      "name": "python3",
      "display_name": "Python 3"
    },
    "accelerator": "TPU"
  },
  "cells": [
    {
      "cell_type": "markdown",
      "metadata": {
        "id": "view-in-github",
        "colab_type": "text"
      },
      "source": [
        "<a href=\"https://colab.research.google.com/github/Rblivingstone/deep_learning/blob/master/GPT-2-mini.ipynb\" target=\"_parent\"><img src=\"https://colab.research.google.com/assets/colab-badge.svg\" alt=\"Open In Colab\"/></a>"
      ]
    },
    {
      "metadata": {
        "id": "mqXA9MO-j0qw",
        "colab_type": "code",
        "colab": {
          "base_uri": "https://localhost:8080/",
          "height": 34
        },
        "outputId": "91ed9d95-5228-424e-d5de-a3af24ccdfa5"
      },
      "cell_type": "code",
      "source": [
        "import requests\n",
        "from bs4 import BeautifulSoup\n",
        "import re\n",
        "from keras.preprocessing.text import Tokenizer\n",
        "from keras.utils import to_categorical\n",
        "import numpy as np\n",
        "\n",
        "class CorpusGenerator:\n",
        "    def __init__(self,start=46499973,max=5):\n",
        "        self.n = start\n",
        "        self.max = max\n",
        "        self.i = 0\n",
        "        \n",
        "    def __iter__(self):\n",
        "        return self\n",
        "    \n",
        "    def __next__(self):\n",
        "      if self.max!=None:\n",
        "        if self.max>=self.i:\n",
        "          result = self.get()\n",
        "          self.n+=1\n",
        "          self.i+=1\n",
        "          return result\n",
        "        else:\n",
        "          raise StopIteration\n",
        "      else:\n",
        "        result = self.get()\n",
        "        self.n+=1\n",
        "        self.i+=1\n",
        "        return result\n",
        "    \n",
        "    def get(self):\n",
        "        resp = requests.get('https://www.ksl.com/article/{0}'.format(self.n))\n",
        "        \n",
        "        soup = BeautifulSoup(resp.content,'html.parser')\n",
        "        text = soup.find(\"article\",{\"id\":\"kslMainArticle\"}).get_text()\n",
        "        try:\n",
        "          cleaned_text = re.findall('(?<=— )(.*)(?=Copyright)',text)[0]\n",
        "          return cleaned_text\n",
        "        except IndexError:\n",
        "          return(\"No Text Here\")\n",
        "        \n",
        "class SequenceGenerator:\n",
        "    def __init__(self,cg_max=10):\n",
        "        self.tk = Tokenizer()\n",
        "        self.cg = CorpusGenerator(max=cg_max)\n",
        "        self.cg.n=46499973\n",
        "        self.cg.i=0\n",
        "        self.tk.fit_on_texts(CorpusGenerator(max=cg_max))\n",
        "        self.n = 0\n",
        "        self.i = 0\n",
        "        self.seqs = self.tk.texts_to_sequences(self.cg)\n",
        "        self.vocab_size = len(self.tk.word_index) + 1\n",
        "    \n",
        "    def __iter__(self):\n",
        "        return self\n",
        "  \n",
        "    def __next__(self):\n",
        "        if self.i+20<len(self.seqs[self.n])-1:\n",
        "            output = (np.array(self.seqs[self.n][self.i:self.i+20]).reshape(1,20),\n",
        "                      to_categorical(self.seqs[self.n][self.i+20],\n",
        "                                     num_classes=self.vocab_size).reshape(1,self.vocab_size))\n",
        "            self.i+=1\n",
        "            return output\n",
        "        else:\n",
        "            self.n += 1\n",
        "            self.i = 0\n",
        "            NoData = True\n",
        "            while NoData:\n",
        "              if len(self.seqs[self.n])<21:\n",
        "                self.n+=1\n",
        "              else:\n",
        "                NoData=False\n",
        "            if self.n>len(self.seqs)-1:\n",
        "              self.n=0\n",
        "            output = (np.array(self.seqs[self.n][self.i:self.i+20]).reshape(1,20),\n",
        "                      to_categorical(self.seqs[self.n][self.i+20],\n",
        "                                     num_classes=self.vocab_size).reshape(1,self.vocab_size))\n",
        "            self.i+=1\n",
        "            return output\n",
        "    \n",
        "    "
      ],
      "execution_count": 1,
      "outputs": [
        {
          "output_type": "stream",
          "text": [
            "Using TensorFlow backend.\n"
          ],
          "name": "stderr"
        }
      ]
    },
    {
      "metadata": {
        "id": "dZvaur9VXBPt",
        "colab_type": "code",
        "colab": {}
      },
      "cell_type": "code",
      "source": [
        "sg = SequenceGenerator(cg_max=100)"
      ],
      "execution_count": 0,
      "outputs": []
    },
    {
      "metadata": {
        "id": "hBxckdedZWb9",
        "colab_type": "code",
        "colab": {
          "base_uri": "https://localhost:8080/",
          "height": 496
        },
        "outputId": "2528fd0e-2a68-4d22-82bd-3ee17af17716"
      },
      "cell_type": "code",
      "source": [
        "from keras.utils import to_categorical\n",
        "from keras.models import Sequential\n",
        "from keras.layers import Dense\n",
        "from keras.layers import LSTM\n",
        "from keras.layers import Embedding\n",
        "\n",
        "vocab_size = sg.vocab_size\n",
        "\n",
        "model = Sequential()\n",
        "model.add(Embedding(vocab_size, 5000, input_length=20))\n",
        "model.add(LSTM(100, return_sequences=True))\n",
        "model.add(LSTM(100, return_sequences=True))\n",
        "model.add(LSTM(100, return_sequences=True))\n",
        "model.add(LSTM(100, return_sequences=True))\n",
        "model.add(LSTM(100))\n",
        "model.add(Dense(5000, activation='relu'))\n",
        "model.add(Dense(vocab_size, activation='softmax'))\n",
        "print(model.summary())\n",
        "\n",
        "model.compile(loss='categorical_crossentropy', optimizer='adam', metrics=['accuracy'])"
      ],
      "execution_count": 3,
      "outputs": [
        {
          "output_type": "stream",
          "text": [
            "WARNING:tensorflow:From /usr/local/lib/python3.6/dist-packages/tensorflow/python/framework/op_def_library.py:263: colocate_with (from tensorflow.python.framework.ops) is deprecated and will be removed in a future version.\n",
            "Instructions for updating:\n",
            "Colocations handled automatically by placer.\n",
            "_________________________________________________________________\n",
            "Layer (type)                 Output Shape              Param #   \n",
            "=================================================================\n",
            "embedding_1 (Embedding)      (None, 20, 5000)          23570000  \n",
            "_________________________________________________________________\n",
            "lstm_1 (LSTM)                (None, 20, 100)           2040400   \n",
            "_________________________________________________________________\n",
            "lstm_2 (LSTM)                (None, 20, 100)           80400     \n",
            "_________________________________________________________________\n",
            "lstm_3 (LSTM)                (None, 20, 100)           80400     \n",
            "_________________________________________________________________\n",
            "lstm_4 (LSTM)                (None, 20, 100)           80400     \n",
            "_________________________________________________________________\n",
            "lstm_5 (LSTM)                (None, 100)               80400     \n",
            "_________________________________________________________________\n",
            "dense_1 (Dense)              (None, 5000)              505000    \n",
            "_________________________________________________________________\n",
            "dense_2 (Dense)              (None, 4714)              23574714  \n",
            "=================================================================\n",
            "Total params: 50,011,714\n",
            "Trainable params: 50,011,714\n",
            "Non-trainable params: 0\n",
            "_________________________________________________________________\n",
            "None\n"
          ],
          "name": "stdout"
        }
      ]
    },
    {
      "metadata": {
        "id": "uUKY-AuodLcH",
        "colab_type": "code",
        "colab": {
          "base_uri": "https://localhost:8080/",
          "height": 122
        },
        "outputId": "2bf6b3ce-e720-4171-8252-8d22170de4af"
      },
      "cell_type": "code",
      "source": [
        "model.fit_generator(sg,steps_per_epoch=10000,epochs=1000)"
      ],
      "execution_count": 0,
      "outputs": [
        {
          "output_type": "stream",
          "text": [
            "WARNING:tensorflow:From /usr/local/lib/python3.6/dist-packages/tensorflow/python/ops/math_ops.py:3066: to_int32 (from tensorflow.python.ops.math_ops) is deprecated and will be removed in a future version.\n",
            "Instructions for updating:\n",
            "Use tf.cast instead.\n",
            "Epoch 1/1000\n",
            "  466/10000 [>.............................] - ETA: 2:12:11 - loss: 7.3505 - acc: 0.0536"
          ],
          "name": "stdout"
        }
      ]
    },
    {
      "metadata": {
        "id": "cK6qUgByjw14",
        "colab_type": "code",
        "colab": {}
      },
      "cell_type": "code",
      "source": [
        "sg.seqs"
      ],
      "execution_count": 0,
      "outputs": []
    }
  ]
}